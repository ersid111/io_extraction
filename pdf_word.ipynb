{
 "cells": [
  {
   "cell_type": "code",
   "execution_count": 7,
   "metadata": {},
   "outputs": [],
   "source": [
    "import PyPDF2\n",
    "import pandas as pd\n",
    "# Open the PDF file\n",
    "with open(r'C:\\Users\\mordes\\Downloads\\ML_PROJECTS\\io_extraction\\13.0000761 circuit diagram Rev.1.pdf', 'rb') as pdf_file:\n",
    "    # Create a PDF reader object\n",
    "    pdf_reader = PyPDF2.PdfReader(pdf_file)\n",
    "\n",
    "    # Create a Word document\n",
    "    data=[]\n",
    "\n",
    "    # Write the contents of each page of the PDF to the Word document\n",
    "    for page_num in range(len(pdf_reader.pages)):\n",
    "        page = pdf_reader.pages[page_num]\n",
    "        data.append(page.extract_text())\n",
    "\n",
    "\n"
   ]
  },
  {
   "cell_type": "code",
   "execution_count": null,
   "metadata": {},
   "outputs": [],
   "source": []
  },
  {
   "cell_type": "code",
   "execution_count": null,
   "metadata": {},
   "outputs": [],
   "source": []
  },
  {
   "cell_type": "code",
   "execution_count": 8,
   "metadata": {},
   "outputs": [],
   "source": [
    "import re\n",
    "raw_input=[]\n",
    "for i in data:\n",
    "     input_result = re.findall(r\"I(.*?) =\", i)\n",
    "     if input_result:\n",
    "      raw_input.append(input_result)\n",
    "input_list=[]\n",
    "for i in range(len(raw_input)):\n",
    "    if len(raw_input[i])>5:\n",
    "        input_list.extend(raw_input[i])\n",
    "input_address=[]\n",
    "input_name=[]\n",
    "analog_input_address=[]\n",
    "analog_input_name=[]\n",
    "for i in range(len(input_list)):\n",
    "    if len(input_list[i])>8:\n",
    "        AA=input_list[i].replace(\"(1\", \"\").replace(\"( 1\", \"\").replace(\"2I\",\"\").split(' ',1)\n",
    "        input_address.append(\"I\"+AA[0])\n",
    "        input_name.append((AA[1]))\n"
   ]
  },
  {
   "cell_type": "code",
   "execution_count": 9,
   "metadata": {},
   "outputs": [
    {
     "data": {
      "text/plain": [
       "['Emergency off',\n",
       " 'Emergency off switch cabinet door',\n",
       " 'Mill cover limit switch evaluation',\n",
       " 'Cover switch dosing airlock 1',\n",
       " 'Thermistor dosing airlock 1 ',\n",
       " 'Dosing airlock 1 Motorprotection switch OK',\n",
       " 'Ex pressure switch OK',\n",
       " 'Motor protection screening machine',\n",
       " 'DFD cyclone 1 bottom opened',\n",
       " 'DFD cyclone 1 top opened',\n",
       " 'DFD cyclone 1 top closed',\n",
       " 'DFD cyclone 1 bottom closed',\n",
       " 'Thermistor fan ',\n",
       " 'Fan Motorprotection switch OK',\n",
       " 'Brake resistor mill classifier',\n",
       " 'Thermistor mill classifier ',\n",
       " 'Mill classifier Motorprotection switch OK',\n",
       " 'Brake resistor grinding disc',\n",
       " 'Thermistor grinding disc ',\n",
       " 'Grinding disc Motorprotection switch OK',\n",
       " 'Intake air volumetric flow',\n",
       " 'Intake air temperature',\n",
       " 'Dust dtecty']"
      ]
     },
     "execution_count": 9,
     "metadata": {},
     "output_type": "execute_result"
    }
   ],
   "source": []
  },
  {
   "cell_type": "code",
   "execution_count": 116,
   "metadata": {},
   "outputs": [],
   "source": [
    "import re\n",
    "oFINAL_RESULT=[]\n",
    "for i in data:\n",
    "     oresult = re.findall(r\"Q(.*?) =\", i)\n",
    "     if oresult:\n",
    "      oFINAL_RESULT.append(oresult)\n"
   ]
  },
  {
   "cell_type": "code",
   "execution_count": 5,
   "metadata": {},
   "outputs": [],
   "source": [
    "raw_output=[]\n",
    "for i in data:\n",
    "     output_result = re.findall(r\"Q(.*?) =\", i)\n",
    "     if output_result:\n",
    "      raw_output.append(output_result)\n",
    "output_list=[]\n",
    "for i in range(len(raw_output)):\n",
    "    if len(raw_output[i])>5:\n",
    "        output_list.extend(raw_output[i])\n",
    "output_address=[]\n",
    "output_name=[]\n",
    "analog_output_address=[]\n",
    "analog_output_name=[]\n",
    "for i in range(len(output_list)):\n",
    "    if len(output_list[i])>8:\n",
    "        AA=output_list[i].replace(\"(1\", \"\").replace(\"( 1\", \"\").replace(\"2I\",\"\").split(' ',1)\n",
    "        output_address.append('Q'*AA[0])\n",
    "        output_name.append((AA[1]))"
   ]
  },
  {
   "cell_type": "code",
   "execution_count": 124,
   "metadata": {},
   "outputs": [
    {
     "data": {
      "text/plain": [
       "['Reset emergency off',\n",
       " 'Lamp general alarm',\n",
       " 'Enable main contactor feeding',\n",
       " 'Relais General Alarm',\n",
       " 'Main contactor screening machine',\n",
       " 'Enable sreening machine',\n",
       " 'DFD cyclone 1 valve top open',\n",
       " 'DFD cyclone 1 valve bottom open',\n",
       " 'spare',\n",
       " 'Filter control device']"
      ]
     },
     "execution_count": 124,
     "metadata": {},
     "output_type": "execute_result"
    }
   ],
   "source": [
    "Input_df=pd.DataFrame({\"Input_Adrress\":input_address,\"Input_Name\":input_name})\n",
    "Output_df=pd.DataFrame({\"Output_Adrress\":output_address,\"Output_Name\":output_name})\n",
    "Output_df=Output_df.sort_values(by='Output_Adrress')\n",
    "result = pd.concat([Input_df,Output_df], axis=1)\n",
    "result"
   ]
  },
  {
   "cell_type": "code",
   "execution_count": 43,
   "metadata": {},
   "outputs": [],
   "source": [
    "# 'PageICM 2.4\\n\n",
    "Machine_type =re.search(r'ICM( \\d\\.\\d)', data[0]).group(0)\n",
    "order_number=re.search(r'13(.\\d{7})', data[0]).group(0)\n"
   ]
  },
  {
   "cell_type": "code",
   "execution_count": 46,
   "metadata": {},
   "outputs": [
    {
     "data": {
      "text/plain": [
       "'ICM 2.4_13.0000761.xlsx'"
      ]
     },
     "execution_count": 46,
     "metadata": {},
     "output_type": "execute_result"
    }
   ],
   "source": [
    "Name_of_file=Machine_type+\"_\"+order_number+\".xlsx\"\n",
    "Name_of_file"
   ]
  },
  {
   "cell_type": "code",
   "execution_count": 40,
   "metadata": {},
   "outputs": [
    {
     "data": {
      "text/plain": [
       "'PageICM 2.4\\nEd.\\n122016JD+Date\\nCover1 0 7 6\\nAppr8 9 3\\n71&EAB=INDEX/14\\n24.01.2023\\n12\\n=5\\nZeichnungsnummer:???WORKSNEUMAN & ESSER\\nProcess Technology GmbH\\nWerkstraße\\n52531 Übach-Palenberg, DeutschlandRev Rev.1\\nPage 1 of\\n13.0000761\\n71:NEUMAN & ESSER\\n13.0000761::\\n122016ICM 2.4\\n:122016.A01: 4500150424:\\n:PROJECT NO.LÖBBE PROJECT NO.\\nDRAWING NO.\\nNumber of pagesORDER NO.PROJECTCUSTOMER\\nProcess Technology GmbH'"
      ]
     },
     "execution_count": 40,
     "metadata": {},
     "output_type": "execute_result"
    }
   ],
   "source": [
    "data[0]"
   ]
  },
  {
   "cell_type": "code",
   "execution_count": 21,
   "metadata": {},
   "outputs": [],
   "source": [
    "input_list\n",
    "\n",
    "\n",
    "\n"
   ]
  },
  {
   "cell_type": "code",
   "execution_count": 56,
   "metadata": {},
   "outputs": [
    {
     "data": {
      "text/plain": [
       "200"
      ]
     },
     "execution_count": 56,
     "metadata": {},
     "output_type": "execute_result"
    }
   ],
   "source": [
    "len(data)if"
   ]
  },
  {
   "cell_type": "code",
   "execution_count": 75,
   "metadata": {},
   "outputs": [
    {
     "name": "stdout",
     "output_type": "stream",
     "text": [
      "1.1\n"
     ]
    }
   ],
   "source": [
    "import re\n",
    "A='1.1 Emergency off switch cabinet door'\n",
    "result = re.match(r'\\d+\\.\\d+', A)\n",
    "print(result.group()) #1.1\n"
   ]
  },
  {
   "cell_type": "code",
   "execution_count": 78,
   "metadata": {},
   "outputs": [
    {
     "name": "stdout",
     "output_type": "stream",
     "text": [
      "1.1\n",
      "Emergency off switch cabinet door\n"
     ]
    }
   ],
   "source": [
    "result = A.split(' ',1)\n",
    "print(result[0]) # 1.1\n",
    "print(result[1]) # Emergency off switch cabinet door\n"
   ]
  },
  {
   "cell_type": "code",
   "execution_count": 57,
   "metadata": {},
   "outputs": [],
   "source": []
  },
  {
   "cell_type": "code",
   "execution_count": 29,
   "metadata": {},
   "outputs": [
    {
     "name": "stdout",
     "output_type": "stream",
     "text": [
      "ICM 2.4\n"
     ]
    }
   ],
   "source": [
    "import re\n",
    "s = 'PageICM 2.4\\n'\n",
    "match = re.search(r'ICM( \\d\\.\\d)', s)\n",
    "print(match.group(0))\n"
   ]
  },
  {
   "cell_type": "code",
   "execution_count": 72,
   "metadata": {},
   "outputs": [
    {
     "data": {
      "text/plain": [
       "[8,\n",
       " 9,\n",
       " 78,\n",
       " 79,\n",
       " 80,\n",
       " 81,\n",
       " 82,\n",
       " 83,\n",
       " 84,\n",
       " 85,\n",
       " 86,\n",
       " 87,\n",
       " 88,\n",
       " 89,\n",
       " 90,\n",
       " 91,\n",
       " 92,\n",
       " 93,\n",
       " 94,\n",
       " 95,\n",
       " 96,\n",
       " 97,\n",
       " 98,\n",
       " 99,\n",
       " 100,\n",
       " 101]"
      ]
     },
     "execution_count": 72,
     "metadata": {},
     "output_type": "execute_result"
    }
   ],
   "source": [
    "io_pages"
   ]
  },
  {
   "cell_type": "code",
   "execution_count": 94,
   "metadata": {},
   "outputs": [
    {
     "name": "stdout",
     "output_type": "stream",
     "text": [
      "['I1.0', 'I1.1', 'I1.2', 'I1.3', 'I1.4', 'I1.5', 'I1.6', 'I1.7']\n"
     ]
    }
   ],
   "source": [
    "import re\n",
    "\n",
    "# Extract the values starting with \"I1.\"\n",
    "i_values = re.findall(r\"I[0-9]\\.[0-9]\", data[80])\n",
    "print(i_values)\n",
    "\n",
    "# Extract the text following the \"I1.\" values\n",
    "\n"
   ]
  },
  {
   "cell_type": "code",
   "execution_count": 65,
   "metadata": {},
   "outputs": [
    {
     "name": "stdout",
     "output_type": "stream",
     "text": [
      "0/50.1E -20Q1:14 Motor protection mill ok\n",
      "1/50.2E -20B1:14 Thermistor mill ok\n",
      "2/50.3E -20R1:T2 Brake resisitor mill ok\n",
      "3/50.4E -22Q1:14 Motor protection mill classifier ok\n",
      "4/50.5E -22B1:14 Thermistor mill classifier ok\n",
      "5/50.6E -22R1:12 Brake resisitor mill classifier ok\n",
      "6/50.7E -26Q1:14 Motor protection fan ok\n",
      "7/50.7E -26B1:14 Thermistor fan ok\n"
     ]
    }
   ],
   "source": [
    "for match in re.finditer(r\"\\nDI(.*?)\\n\", data[80]):\n",
    "    print(match.group(1))\n"
   ]
  },
  {
   "cell_type": "code",
   "execution_count": 71,
   "metadata": {},
   "outputs": [
    {
     "data": {
      "text/plain": [
       "'Thermistor fan ok'"
      ]
     },
     "execution_count": 71,
     "metadata": {},
     "output_type": "execute_result"
    }
   ],
   "source": [
    "match.group(1).split(\" \",2)[2]"
   ]
  },
  {
   "cell_type": "code",
   "execution_count": 261,
   "metadata": {},
   "outputs": [],
   "source": [
    "import re\n",
    "io_pages=[]\n",
    "for i in range(len(data)):\n",
    "    if \"PLC Overview\" in data[i]:\n",
    "        io_pages.append(i)\n",
    "    \n",
    "raw_input=[]\n",
    "input_name=[]\n",
    "for i in range(len(io_pages)):\n",
    "     input_result = re.findall(r\"I[0-9]\\.[0-9]\", data[io_pages[i]])\n",
    "     for match in re.finditer(r\"\\nDI(.*?)\\n\", data[io_pages[i]]):\n",
    "         input_name.append(match.group(1).split(\" \",2)[-1])  \n",
    "\n",
    "     if input_result:\n",
    "      raw_input.append(input_result)\n",
    "      \n",
    "      \n",
    "# input_list=[]\n",
    "# for i in range(len(raw_input)):\n",
    "#     if len(raw_input[i])>5:\n",
    "#         input_list.extend(raw_input[i])\n",
    "# input_address=[]\n",
    "# input_name=[]\n",
    "# analog_input_address=[]\n",
    "# analog_input_name=[]\n",
    "# for i in range(len(input_list)):\n",
    "#     if len(input_list[i])>8:\n",
    "#         AA=input_list[i].replace(\"(1\", \"\").replace(\"( 1\", \"\").replace(\"2I\",\"\").split(' ',1)\n",
    "#         input_address.append(\"I\"+AA[0])\n",
    "#         input_name.append((AA[1]))"
   ]
  },
  {
   "cell_type": "code",
   "execution_count": 262,
   "metadata": {},
   "outputs": [
    {
     "data": {
      "text/plain": [
       "[['I0.0', 'I0.1', 'I0.2', 'I0.3', 'I0.4', 'I0.5', 'I0.6', 'I0.7'],\n",
       " ['I1.0', 'I1.1', 'I1.2', 'I1.3', 'I1.4', 'I1.5', 'I1.6', 'I1.7'],\n",
       " ['I2.0', 'I2.1', 'I2.2', 'I2.3', 'I2.4', 'I2.5', 'I2.6', 'I2.7'],\n",
       " ['I3.0', 'I3.1', 'I3.2', 'I3.3', 'I3.4', 'I3.5', 'I3.6', 'I3.7'],\n",
       " ['I4.0', 'I4.1', 'I4.2', 'I4.3', 'I4.4', 'I4.5', 'I4.6', 'I4.7'],\n",
       " ['I5.0', 'I5.1', 'I5.2', 'I5.3', 'I5.4', 'I5.5', 'I5.6', 'I5.7'],\n",
       " ['I6.0', 'I6.1', 'I6.2', 'I6.3', 'I6.4', 'I6.5', 'I6.6', 'I6.7'],\n",
       " ['I7.0', 'I7.1', 'I7.2', 'I7.3', 'I7.4', 'I7.5', 'I7.6', 'I7.7']]"
      ]
     },
     "execution_count": 262,
     "metadata": {},
     "output_type": "execute_result"
    }
   ],
   "source": [
    "raw_input"
   ]
  },
  {
   "cell_type": "code",
   "execution_count": 108,
   "metadata": {},
   "outputs": [
    {
     "data": {
      "text/plain": [
       "56"
      ]
     },
     "execution_count": 108,
     "metadata": {},
     "output_type": "execute_result"
    }
   ],
   "source": [
    "len(input_name)"
   ]
  },
  {
   "cell_type": "code",
   "execution_count": 109,
   "metadata": {},
   "outputs": [
    {
     "data": {
      "text/plain": [
       "[8,\n",
       " 9,\n",
       " 78,\n",
       " 79,\n",
       " 80,\n",
       " 81,\n",
       " 82,\n",
       " 83,\n",
       " 84,\n",
       " 85,\n",
       " 86,\n",
       " 87,\n",
       " 88,\n",
       " 89,\n",
       " 90,\n",
       " 91,\n",
       " 92,\n",
       " 93,\n",
       " 94,\n",
       " 95,\n",
       " 96,\n",
       " 97,\n",
       " 98,\n",
       " 99,\n",
       " 100,\n",
       " 101]"
      ]
     },
     "execution_count": 109,
     "metadata": {},
     "output_type": "execute_result"
    }
   ],
   "source": [
    "io_pages"
   ]
  },
  {
   "cell_type": "code",
   "execution_count": 263,
   "metadata": {},
   "outputs": [],
   "source": [
    "import re\n",
    "io_pages=[]\n",
    "for i in range(len(data)):\n",
    "    if \"PLC Overview\" in data[i]:\n",
    "        io_pages.append(i)\n",
    "if io_pages:\n",
    "    input_name=[]\n",
    "    input_address=[]\n",
    "    for i in range(len(io_pages)):\n",
    "        try:\n",
    "            for match in re.finditer(r\"\\nI[0-9]\\.[0-9]\", data[io_pages[i]]):\n",
    "                 input_address.append(match.group().replace(\"\\n\", \"\"))\n",
    "            for match in re.finditer(r\"\\nDI(.*?)\\n\", data[io_pages[i]]):\n",
    "                input_name.append(match.group(1).split(\" \",2)[-1])  \n",
    "            if input_result:\n",
    "                raw_input.extend(input_result)\n",
    "        except IndexError:\n",
    "            pass\n",
    "else:\n",
    "    print(\"No 'PLC Overview' found in the data\")\n"
   ]
  },
  {
   "cell_type": "code",
   "execution_count": 264,
   "metadata": {},
   "outputs": [
    {
     "data": {
      "text/plain": [
       "64"
      ]
     },
     "execution_count": 264,
     "metadata": {},
     "output_type": "execute_result"
    }
   ],
   "source": [
    "len(input_address)"
   ]
  },
  {
   "cell_type": "code",
   "execution_count": 265,
   "metadata": {},
   "outputs": [
    {
     "data": {
      "text/plain": [
       "64"
      ]
     },
     "execution_count": 265,
     "metadata": {},
     "output_type": "execute_result"
    }
   ],
   "source": [
    "len(input_name)"
   ]
  },
  {
   "cell_type": "code",
   "execution_count": 266,
   "metadata": {},
   "outputs": [
    {
     "name": "stdout",
     "output_type": "stream",
     "text": [
      "48\n",
      "48\n"
     ]
    }
   ],
   "source": [
    "import re\n",
    "io_pages=[]\n",
    "for i in range(len(data)):\n",
    "    if \"PLC Overview\" in data[i]:\n",
    "        io_pages.append(i)\n",
    "if io_pages:\n",
    "    output_address=[]\n",
    "    output_name=[]\n",
    "    output_result=[]\n",
    "    for i in range(len(io_pages)):\n",
    "        try:\n",
    "            for match in re.finditer(r\"\\nQ[0-9]\\.[0-9]\", data[io_pages[i]]):\n",
    "                 output_address.append(match.group().replace(\"\\n\", \"\"))\n",
    "            for match in re.finditer(r\"\\nDQ(.*?)\\n\", data[io_pages[i]]):\n",
    "                output_result.append(match.group(1).split(' ',2)[-1])  \n",
    "            if output_result:\n",
    "                output_name.extend(output_result)\n",
    "        except IndexError:\n",
    "            pass\n",
    "else:\n",
    "    print(\"No 'PLC Overview' found in the data\")\n",
    "print(len(output_result))\n",
    "print(len(output_address))"
   ]
  },
  {
   "cell_type": "code",
   "execution_count": 267,
   "metadata": {},
   "outputs": [
    {
     "data": {
      "text/html": [
       "<div>\n",
       "<style scoped>\n",
       "    .dataframe tbody tr th:only-of-type {\n",
       "        vertical-align: middle;\n",
       "    }\n",
       "\n",
       "    .dataframe tbody tr th {\n",
       "        vertical-align: top;\n",
       "    }\n",
       "\n",
       "    .dataframe thead th {\n",
       "        text-align: right;\n",
       "    }\n",
       "</style>\n",
       "<table border=\"1\" class=\"dataframe\">\n",
       "  <thead>\n",
       "    <tr style=\"text-align: right;\">\n",
       "      <th></th>\n",
       "      <th>Input_Adrress</th>\n",
       "      <th>Input_Name</th>\n",
       "      <th>Output_Adrress</th>\n",
       "      <th>Output_Name</th>\n",
       "    </tr>\n",
       "  </thead>\n",
       "  <tbody>\n",
       "    <tr>\n",
       "      <th>0</th>\n",
       "      <td>I0.0</td>\n",
       "      <td>Emergency OFF ok</td>\n",
       "      <td>Q0.0</td>\n",
       "      <td>Emergency OFF ok</td>\n",
       "    </tr>\n",
       "    <tr>\n",
       "      <th>1</th>\n",
       "      <td>I0.1</td>\n",
       "      <td>Mill classifier cover ok</td>\n",
       "      <td>Q0.1</td>\n",
       "      <td>General alarm</td>\n",
       "    </tr>\n",
       "    <tr>\n",
       "      <th>2</th>\n",
       "      <td>I0.2</td>\n",
       "      <td>Pressure switch ok</td>\n",
       "      <td>Q0.2</td>\n",
       "      <td>Reset Emergency Relays</td>\n",
       "    </tr>\n",
       "    <tr>\n",
       "      <th>3</th>\n",
       "      <td>I0.3</td>\n",
       "      <td>Limit switch ex barrier valve</td>\n",
       "      <td>Q0.3</td>\n",
       "      <td>Reset Relay 2</td>\n",
       "    </tr>\n",
       "    <tr>\n",
       "      <th>4</th>\n",
       "      <td>I0.4</td>\n",
       "      <td>Power supply DC OK signal</td>\n",
       "      <td>Q0.4</td>\n",
       "      <td>Dosing running</td>\n",
       "    </tr>\n",
       "    <tr>\n",
       "      <th>...</th>\n",
       "      <td>...</td>\n",
       "      <td>...</td>\n",
       "      <td>...</td>\n",
       "      <td>...</td>\n",
       "    </tr>\n",
       "    <tr>\n",
       "      <th>59</th>\n",
       "      <td>I7.3</td>\n",
       "      <td>Emergency stop cabinet</td>\n",
       "      <td>NaN</td>\n",
       "      <td>NaN</td>\n",
       "    </tr>\n",
       "    <tr>\n",
       "      <th>60</th>\n",
       "      <td>I7.4</td>\n",
       "      <td>Emergency stop lifting and revolving device</td>\n",
       "      <td>NaN</td>\n",
       "      <td>NaN</td>\n",
       "    </tr>\n",
       "    <tr>\n",
       "      <th>61</th>\n",
       "      <td>I7.5</td>\n",
       "      <td>Emergency stop 2X7 Box</td>\n",
       "      <td>NaN</td>\n",
       "      <td>NaN</td>\n",
       "    </tr>\n",
       "    <tr>\n",
       "      <th>62</th>\n",
       "      <td>I7.6</td>\n",
       "      <td>Cleaning mode 2X7 Box</td>\n",
       "      <td>NaN</td>\n",
       "      <td>NaN</td>\n",
       "    </tr>\n",
       "    <tr>\n",
       "      <th>63</th>\n",
       "      <td>I7.7</td>\n",
       "      <td>Temperature cabinet &gt;40°C</td>\n",
       "      <td>NaN</td>\n",
       "      <td>NaN</td>\n",
       "    </tr>\n",
       "  </tbody>\n",
       "</table>\n",
       "<p>64 rows × 4 columns</p>\n",
       "</div>"
      ],
      "text/plain": [
       "   Input_Adrress                                   Input_Name Output_Adrress  \\\n",
       "0           I0.0                             Emergency OFF ok           Q0.0   \n",
       "1           I0.1                     Mill classifier cover ok           Q0.1   \n",
       "2           I0.2                           Pressure switch ok           Q0.2   \n",
       "3           I0.3                Limit switch ex barrier valve           Q0.3   \n",
       "4           I0.4                    Power supply DC OK signal           Q0.4   \n",
       "..           ...                                          ...            ...   \n",
       "59          I7.3                       Emergency stop cabinet            NaN   \n",
       "60          I7.4  Emergency stop lifting and revolving device            NaN   \n",
       "61          I7.5                       Emergency stop 2X7 Box            NaN   \n",
       "62          I7.6                        Cleaning mode 2X7 Box            NaN   \n",
       "63          I7.7                    Temperature cabinet >40°C            NaN   \n",
       "\n",
       "               Output_Name  \n",
       "0         Emergency OFF ok  \n",
       "1            General alarm  \n",
       "2   Reset Emergency Relays  \n",
       "3            Reset Relay 2  \n",
       "4           Dosing running  \n",
       "..                     ...  \n",
       "59                     NaN  \n",
       "60                     NaN  \n",
       "61                     NaN  \n",
       "62                     NaN  \n",
       "63                     NaN  \n",
       "\n",
       "[64 rows x 4 columns]"
      ]
     },
     "execution_count": 267,
     "metadata": {},
     "output_type": "execute_result"
    }
   ],
   "source": [
    "Input_df=pd.DataFrame({\"Input_Adrress\":input_address,\"Input_Name\":input_name})\n",
    "Output_df=pd.DataFrame({\"Output_Adrress\":output_address,\"Output_Name\":output_result})\n",
    "Output_df=Output_df.sort_values(by='Output_Adrress')\n",
    "result = pd.concat([Input_df,Output_df], axis=1)\n",
    "result"
   ]
  },
  {
   "cell_type": "code",
   "execution_count": 259,
   "metadata": {},
   "outputs": [
    {
     "data": {
      "text/html": [
       "<div>\n",
       "<style scoped>\n",
       "    .dataframe tbody tr th:only-of-type {\n",
       "        vertical-align: middle;\n",
       "    }\n",
       "\n",
       "    .dataframe tbody tr th {\n",
       "        vertical-align: top;\n",
       "    }\n",
       "\n",
       "    .dataframe thead th {\n",
       "        text-align: right;\n",
       "    }\n",
       "</style>\n",
       "<table border=\"1\" class=\"dataframe\">\n",
       "  <thead>\n",
       "    <tr style=\"text-align: right;\">\n",
       "      <th></th>\n",
       "      <th>Output_Adrress</th>\n",
       "      <th>Output_Name</th>\n",
       "    </tr>\n",
       "  </thead>\n",
       "  <tbody>\n",
       "    <tr>\n",
       "      <th>0</th>\n",
       "      <td>Q0.0</td>\n",
       "      <td>Emergency OFF ok</td>\n",
       "    </tr>\n",
       "    <tr>\n",
       "      <th>1</th>\n",
       "      <td>Q0.1</td>\n",
       "      <td>General alarm</td>\n",
       "    </tr>\n",
       "    <tr>\n",
       "      <th>2</th>\n",
       "      <td>Q0.2</td>\n",
       "      <td>Reset Relay 1</td>\n",
       "    </tr>\n",
       "    <tr>\n",
       "      <th>3</th>\n",
       "      <td>Q0.3</td>\n",
       "      <td>Reset Relay 2</td>\n",
       "    </tr>\n",
       "    <tr>\n",
       "      <th>4</th>\n",
       "      <td>Q0.4</td>\n",
       "      <td>Dosing running</td>\n",
       "    </tr>\n",
       "    <tr>\n",
       "      <th>5</th>\n",
       "      <td>Q0.5</td>\n",
       "      <td>Horn</td>\n",
       "    </tr>\n",
       "    <tr>\n",
       "      <th>6</th>\n",
       "      <td>Q0.6</td>\n",
       "      <td>Lamp general alarm</td>\n",
       "    </tr>\n",
       "    <tr>\n",
       "      <th>7</th>\n",
       "      <td>Q0.7</td>\n",
       "      <td>Lamp dosing airlock running</td>\n",
       "    </tr>\n",
       "    <tr>\n",
       "      <th>8</th>\n",
       "      <td>Q1.0</td>\n",
       "      <td>Spare</td>\n",
       "    </tr>\n",
       "    <tr>\n",
       "      <th>9</th>\n",
       "      <td>Q1.1</td>\n",
       "      <td>Spare</td>\n",
       "    </tr>\n",
       "    <tr>\n",
       "      <th>10</th>\n",
       "      <td>Q1.2</td>\n",
       "      <td>Spare</td>\n",
       "    </tr>\n",
       "    <tr>\n",
       "      <th>11</th>\n",
       "      <td>Q1.3</td>\n",
       "      <td>Spare</td>\n",
       "    </tr>\n",
       "    <tr>\n",
       "      <th>12</th>\n",
       "      <td>Q1.4</td>\n",
       "      <td>Cleaning mode active / fan on</td>\n",
       "    </tr>\n",
       "    <tr>\n",
       "      <th>13</th>\n",
       "      <td>Q1.5</td>\n",
       "      <td>Spare</td>\n",
       "    </tr>\n",
       "    <tr>\n",
       "      <th>14</th>\n",
       "      <td>Q1.6</td>\n",
       "      <td>Spare</td>\n",
       "    </tr>\n",
       "    <tr>\n",
       "      <th>15</th>\n",
       "      <td>Q1.7</td>\n",
       "      <td>Spare</td>\n",
       "    </tr>\n",
       "    <tr>\n",
       "      <th>16</th>\n",
       "      <td>Q2.0</td>\n",
       "      <td>Spare</td>\n",
       "    </tr>\n",
       "    <tr>\n",
       "      <th>17</th>\n",
       "      <td>Q2.1</td>\n",
       "      <td>Spare</td>\n",
       "    </tr>\n",
       "    <tr>\n",
       "      <th>18</th>\n",
       "      <td>Q2.2</td>\n",
       "      <td>Ultrasonic Local/Remote</td>\n",
       "    </tr>\n",
       "    <tr>\n",
       "      <th>19</th>\n",
       "      <td>Q2.3</td>\n",
       "      <td>Enable ultrasonic</td>\n",
       "    </tr>\n",
       "    <tr>\n",
       "      <th>20</th>\n",
       "      <td>Q2.4</td>\n",
       "      <td>Filter control device</td>\n",
       "    </tr>\n",
       "    <tr>\n",
       "      <th>21</th>\n",
       "      <td>Q2.5</td>\n",
       "      <td>Filter cone valve 1</td>\n",
       "    </tr>\n",
       "    <tr>\n",
       "      <th>22</th>\n",
       "      <td>Q2.6</td>\n",
       "      <td>Filter cone valve 2</td>\n",
       "    </tr>\n",
       "    <tr>\n",
       "      <th>23</th>\n",
       "      <td>Q2.7</td>\n",
       "      <td>Filter cone valve 3</td>\n",
       "    </tr>\n",
       "    <tr>\n",
       "      <th>24</th>\n",
       "      <td>Q3.0</td>\n",
       "      <td>Spare</td>\n",
       "    </tr>\n",
       "    <tr>\n",
       "      <th>25</th>\n",
       "      <td>Q3.1</td>\n",
       "      <td>Enable Screening Machines</td>\n",
       "    </tr>\n",
       "    <tr>\n",
       "      <th>26</th>\n",
       "      <td>Q3.2</td>\n",
       "      <td>Enable Motor Lifting and Revolving Device cont...</td>\n",
       "    </tr>\n",
       "    <tr>\n",
       "      <th>27</th>\n",
       "      <td>Q3.3</td>\n",
       "      <td>Spare</td>\n",
       "    </tr>\n",
       "    <tr>\n",
       "      <th>28</th>\n",
       "      <td>Q3.4</td>\n",
       "      <td>Enable M1820 NEAddiX second contactor</td>\n",
       "    </tr>\n",
       "    <tr>\n",
       "      <th>29</th>\n",
       "      <td>Q3.5</td>\n",
       "      <td>Spare</td>\n",
       "    </tr>\n",
       "    <tr>\n",
       "      <th>30</th>\n",
       "      <td>Q3.6</td>\n",
       "      <td>NEAddiX Run</td>\n",
       "    </tr>\n",
       "    <tr>\n",
       "      <th>31</th>\n",
       "      <td>Q3.7</td>\n",
       "      <td>NEAddiX Alarm</td>\n",
       "    </tr>\n",
       "    <tr>\n",
       "      <th>32</th>\n",
       "      <td>Q4.0</td>\n",
       "      <td>V5550 DFD filter open bottom</td>\n",
       "    </tr>\n",
       "    <tr>\n",
       "      <th>33</th>\n",
       "      <td>Q4.1</td>\n",
       "      <td>V5550 DFD filter open top</td>\n",
       "    </tr>\n",
       "    <tr>\n",
       "      <th>34</th>\n",
       "      <td>Q4.2</td>\n",
       "      <td>Spare</td>\n",
       "    </tr>\n",
       "    <tr>\n",
       "      <th>35</th>\n",
       "      <td>Q4.3</td>\n",
       "      <td>Spare</td>\n",
       "    </tr>\n",
       "    <tr>\n",
       "      <th>36</th>\n",
       "      <td>Q4.4</td>\n",
       "      <td>DFD cyclone 1 open top</td>\n",
       "    </tr>\n",
       "    <tr>\n",
       "      <th>37</th>\n",
       "      <td>Q4.5</td>\n",
       "      <td>DFD cyclone 1 open bottom</td>\n",
       "    </tr>\n",
       "    <tr>\n",
       "      <th>38</th>\n",
       "      <td>Q4.6</td>\n",
       "      <td>Start/Stop additive dosing</td>\n",
       "    </tr>\n",
       "    <tr>\n",
       "      <th>39</th>\n",
       "      <td>Q4.7</td>\n",
       "      <td>Enable DFD cyclone 1 cleaning mode</td>\n",
       "    </tr>\n",
       "    <tr>\n",
       "      <th>40</th>\n",
       "      <td>Q5.0</td>\n",
       "      <td>Main contactor mill</td>\n",
       "    </tr>\n",
       "    <tr>\n",
       "      <th>41</th>\n",
       "      <td>Q5.1</td>\n",
       "      <td>Main contactor mill classifier</td>\n",
       "    </tr>\n",
       "    <tr>\n",
       "      <th>42</th>\n",
       "      <td>Q5.2</td>\n",
       "      <td>Spare</td>\n",
       "    </tr>\n",
       "    <tr>\n",
       "      <th>43</th>\n",
       "      <td>Q5.3</td>\n",
       "      <td>Main contactor fan</td>\n",
       "    </tr>\n",
       "    <tr>\n",
       "      <th>44</th>\n",
       "      <td>Q5.4</td>\n",
       "      <td>Spare</td>\n",
       "    </tr>\n",
       "    <tr>\n",
       "      <th>45</th>\n",
       "      <td>Q5.5</td>\n",
       "      <td>Main contactor dosing airlock 1</td>\n",
       "    </tr>\n",
       "    <tr>\n",
       "      <th>46</th>\n",
       "      <td>Q5.6</td>\n",
       "      <td>Spare</td>\n",
       "    </tr>\n",
       "    <tr>\n",
       "      <th>47</th>\n",
       "      <td>Q5.7</td>\n",
       "      <td>Main contactor cyclone classifier</td>\n",
       "    </tr>\n",
       "  </tbody>\n",
       "</table>\n",
       "</div>"
      ],
      "text/plain": [
       "   Output_Adrress                                        Output_Name\n",
       "0            Q0.0                                   Emergency OFF ok\n",
       "1            Q0.1                                      General alarm\n",
       "2            Q0.2                                      Reset Relay 1\n",
       "3            Q0.3                                      Reset Relay 2\n",
       "4            Q0.4                                     Dosing running\n",
       "5            Q0.5                                               Horn\n",
       "6            Q0.6                                 Lamp general alarm\n",
       "7            Q0.7                        Lamp dosing airlock running\n",
       "8            Q1.0                                              Spare\n",
       "9            Q1.1                                              Spare\n",
       "10           Q1.2                                              Spare\n",
       "11           Q1.3                                              Spare\n",
       "12           Q1.4                      Cleaning mode active / fan on\n",
       "13           Q1.5                                              Spare\n",
       "14           Q1.6                                              Spare\n",
       "15           Q1.7                                              Spare\n",
       "16           Q2.0                                              Spare\n",
       "17           Q2.1                                              Spare\n",
       "18           Q2.2                            Ultrasonic Local/Remote\n",
       "19           Q2.3                                  Enable ultrasonic\n",
       "20           Q2.4                              Filter control device\n",
       "21           Q2.5                                Filter cone valve 1\n",
       "22           Q2.6                                Filter cone valve 2\n",
       "23           Q2.7                                Filter cone valve 3\n",
       "24           Q3.0                                              Spare\n",
       "25           Q3.1                          Enable Screening Machines\n",
       "26           Q3.2  Enable Motor Lifting and Revolving Device cont...\n",
       "27           Q3.3                                              Spare\n",
       "28           Q3.4              Enable M1820 NEAddiX second contactor\n",
       "29           Q3.5                                              Spare\n",
       "30           Q3.6                                        NEAddiX Run\n",
       "31           Q3.7                                      NEAddiX Alarm\n",
       "32           Q4.0                       V5550 DFD filter open bottom\n",
       "33           Q4.1                          V5550 DFD filter open top\n",
       "34           Q4.2                                              Spare\n",
       "35           Q4.3                                              Spare\n",
       "36           Q4.4                             DFD cyclone 1 open top\n",
       "37           Q4.5                          DFD cyclone 1 open bottom\n",
       "38           Q4.6                         Start/Stop additive dosing\n",
       "39           Q4.7                 Enable DFD cyclone 1 cleaning mode\n",
       "40           Q5.0                                Main contactor mill\n",
       "41           Q5.1                     Main contactor mill classifier\n",
       "42           Q5.2                                              Spare\n",
       "43           Q5.3                                 Main contactor fan\n",
       "44           Q5.4                                              Spare\n",
       "45           Q5.5                    Main contactor dosing airlock 1\n",
       "46           Q5.6                                              Spare\n",
       "47           Q5.7                  Main contactor cyclone classifier"
      ]
     },
     "execution_count": 259,
     "metadata": {},
     "output_type": "execute_result"
    }
   ],
   "source": [
    "Output_df"
   ]
  },
  {
   "cell_type": "code",
   "execution_count": 208,
   "metadata": {},
   "outputs": [
    {
     "data": {
      "text/plain": [
       "48"
      ]
     },
     "execution_count": 208,
     "metadata": {},
     "output_type": "execute_result"
    }
   ],
   "source": [
    "len(output_name)"
   ]
  },
  {
   "cell_type": "code",
   "execution_count": 268,
   "metadata": {},
   "outputs": [
    {
     "data": {
      "text/plain": [
       "'Page\\n=RPT1+RPT1/1 1Approved ML +HL =\\nDocument kind Page designation REV-E. DološickijEN2021.09.15 Prepared\\nTitle page / cover sheet\\n072\\nRPT1\\nRPT1\\nF FEDCBA1 2 3 4 5 6 7 8\\nEDCBA\\nCustomer:Project name:Project Id:\\n13.x624\\nNEUMAN & ESSER Process Technology GmbHTitleWerkstraße\\n52531 Übach-Palenberg, GermanyNEUMAN & ESSER Process Technology\\nTel.:\\nFax:\\nProject number:\\nDescription of Project:\\nDesigner:Project manager:\\nModification date:Revision:\\nTotal number of pages: 182CPA004555\\n13.x624\\nM. Bredelis\\nE. Dološickij\\n2022.02.1707Customer: Delivery address:\\nNEUMAN & ESSER Process Technology GmbH\\n'"
      ]
     },
     "execution_count": 268,
     "metadata": {},
     "output_type": "execute_result"
    }
   ],
   "source": [
    "data[0]"
   ]
  },
  {
   "cell_type": "code",
   "execution_count": 157,
   "metadata": {},
   "outputs": [
    {
     "ename": "IndexError",
     "evalue": "list index out of range",
     "output_type": "error",
     "traceback": [
      "\u001b[1;31m---------------------------------------------------------------------------\u001b[0m",
      "\u001b[1;31mIndexError\u001b[0m                                Traceback (most recent call last)",
      "Cell \u001b[1;32mIn[157], line 4\u001b[0m\n\u001b[0;32m      2\u001b[0m input_name\u001b[39m=\u001b[39m[]\n\u001b[0;32m      3\u001b[0m \u001b[39mfor\u001b[39;00m match \u001b[39min\u001b[39;00m re\u001b[39m.\u001b[39mfinditer(\u001b[39mr\u001b[39m\u001b[39m\"\u001b[39m\u001b[39m\\\u001b[39m\u001b[39mnDQ(.*?)\u001b[39m\u001b[39m\\\u001b[39m\u001b[39mn\u001b[39m\u001b[39m\"\u001b[39m, data[\u001b[39m89\u001b[39m]):\n\u001b[1;32m----> 4\u001b[0m     input_name\u001b[39m.\u001b[39mappend(match\u001b[39m.\u001b[39;49mgroup(\u001b[39m1\u001b[39;49m)\u001b[39m.\u001b[39;49msplit(\u001b[39m\"\u001b[39;49m\u001b[39m \u001b[39;49m\u001b[39m\"\u001b[39;49m,\u001b[39m2\u001b[39;49m)[\u001b[39m2\u001b[39;49m])  \n\u001b[0;32m      5\u001b[0m \u001b[39mprint\u001b[39m(input_name)\n",
      "\u001b[1;31mIndexError\u001b[0m: list index out of range"
     ]
    }
   ],
   "source": [
    "import re\n",
    "input_name=[]\n",
    "for match in re.finditer(r\"\\nDQ(.*?)\\n\", data[89]):\n",
    "    input_name.append(match.group(1).split(\" \",2)[2])  \n",
    "print(input_name)\n"
   ]
  },
  {
   "cell_type": "code",
   "execution_count": 163,
   "metadata": {},
   "outputs": [],
   "source": [
    "try:\n",
    "    input_result = re.findall(r\"Q[0-9]\\.[0-9]\", data[io_pages[i]])\n",
    "    for match in re.finditer(r\"\\nDQ(.*?)\\n\", data[io_pages[i]]):\n",
    "        input_name.append(match.group(1).split(\" \",2)[-1])  \n",
    "except IndexError:\n",
    "    print(\"Index out of range\")\n"
   ]
  },
  {
   "cell_type": "code",
   "execution_count": 223,
   "metadata": {},
   "outputs": [],
   "source": [
    "output_address=[]\n",
    "for i in range(len(io_pages)):\n",
    "        for match in re.finditer(r\"\\nQ[0-9]\\.[0-9]\", data[io_pages[i]]):\n",
    "                 output_address.append(match.group().replace(\"\\n\", \"\"))  "
   ]
  },
  {
   "cell_type": "code",
   "execution_count": 225,
   "metadata": {},
   "outputs": [
    {
     "data": {
      "text/plain": [
       "48"
      ]
     },
     "execution_count": 225,
     "metadata": {},
     "output_type": "execute_result"
    }
   ],
   "source": [
    "len(output_address)"
   ]
  },
  {
   "cell_type": "code",
   "execution_count": 162,
   "metadata": {},
   "outputs": [
    {
     "name": "stdout",
     "output_type": "stream",
     "text": [
      "['Spare', 'Spare', 'Ultrasonic Local/Remote', 'Enable ultrasonic', 'Filter control device', 'Filter cone valve 1', 'Filter cone valve 2', 'Filter cone valve 3']\n"
     ]
    }
   ],
   "source": [
    "import re\n",
    "\n",
    "data = \"\"\"Page\\n=1+01/8080Approved ML +HL =\\nDocument kind Page designation REV-EDO\\nEN2022.03.29 Prepared\\nPLC Overview81 79\\n1\\n01\\nF FEDCBA1 2 3 4 5 6 7 8\\nEDCBA\\nCustomer:Project name:Project Id:\\n13.0000724\\nNEUMAN & ESSER Process Technology GmbHTitle/44.7B-44A12\\nSIEMENS\\n6ES7132-6BF01-0BA0DQ 8x24 VDC/0,5A STET 200SP\\nQ2.01\\nDQ0/59.1B Spare\\nQ2.12\\nDQ1/59.2B Spare\\nQ2.23\\nDQ2/59.3B -K59.1:A1 Ultrasonic Local/Remote\\nQ2.34\\nDQ3/59.4B -K59.2:A1 Enable ultrasonic\\nQ2.45\\nDQ4/59.5B -K59.3:A1 Filter control device\\nQ2.56\\nDQ5/59.6B -K59.4:A1 Filter cone valve 1\\nQ2.67\\nDQ6/59.7B -K59.5:A1 Filter cone valve 2\\nQ2.78\\nDQ7/59.8B -K59.6:A1 Filter cone valve 3\\n9\\nM/59.1B\\n10\\nM/59.2B\\n11\\nM/59.3B\\n12\\nM/59.4B\\n13\\nM/59.5B\\n14\\nM/59.5B\\n15\\nM/59.6B\\n16\\nM/59.7B\\nL+\\n24VDC/47.3C\\nM\\n0VDC/47.3C'\"\"\"\n",
    "input_name=[]\n",
    "for match in re.finditer(r\"\\nDQ(.*?)\\n\", data):\n",
    "    input_name.append(match.group(1).split(\" \",2)[-1])  \n",
    "print(input_name)\n"
   ]
  },
  {
   "cell_type": "code",
   "execution_count": 161,
   "metadata": {},
   "outputs": [
    {
     "ename": "IndexError",
     "evalue": "list index out of range",
     "output_type": "error",
     "traceback": [
      "\u001b[1;31m---------------------------------------------------------------------------\u001b[0m",
      "\u001b[1;31mIndexError\u001b[0m                                Traceback (most recent call last)",
      "Cell \u001b[1;32mIn[161], line 5\u001b[0m\n\u001b[0;32m      3\u001b[0m input_name\u001b[39m=\u001b[39m[]\n\u001b[0;32m      4\u001b[0m \u001b[39mfor\u001b[39;00m match \u001b[39min\u001b[39;00m re\u001b[39m.\u001b[39mfinditer(\u001b[39mr\u001b[39m\u001b[39m\"\u001b[39m\u001b[39m\\\u001b[39m\u001b[39mnDQ(.*?)\u001b[39m\u001b[39m\\\u001b[39m\u001b[39mn\u001b[39m\u001b[39m\"\u001b[39m, data):\n\u001b[1;32m----> 5\u001b[0m     input_name\u001b[39m.\u001b[39mappend(match\u001b[39m.\u001b[39;49mgroup(\u001b[39m1\u001b[39;49m)\u001b[39m.\u001b[39;49msplit(\u001b[39m\"\u001b[39;49m\u001b[39m \u001b[39;49m\u001b[39m\"\u001b[39;49m,\u001b[39m2\u001b[39;49m)[\u001b[39m2\u001b[39;49m])  \n\u001b[0;32m      6\u001b[0m \u001b[39mprint\u001b[39m(input_name)\n",
      "\u001b[1;31mIndexError\u001b[0m: list index out of range"
     ]
    }
   ],
   "source": [
    "data = \"\"\"Page\\n=1+01/8080Approved ML +HL =\\nDocument kind Page designation REV-EDO\\nEN2022.03.29 Prepared\\nPLC Overview81 79\\n1\\n01\\nF FEDCBA1 2 3 4 5 6 7 8\\nEDCBA\\nCustomer:Project name:Project Id:\\n13.0000724\\nNEUMAN & ESSER Process Technology GmbHTitle/44.7B-44A12\\nSIEMENS\\n6ES7132-6BF01-0BA0DQ 8x24 VDC/0,5A STET 200SP\\nQ2.01\\nDQ0/59.1B Spare\\nQ2.12\\nDQ1/59.2B Spare\\nQ2.23\\nDQ2/59.3B -K59.1:A1 Ultrasonic Local/Remote\\nQ2.34\\nDQ3/59.4B -K59.2:A1 Enable ultrasonic\\nQ2.45\\nDQ4/59.5B -K59.3:A1 Filter control device\\nQ2.56\\nDQ4/59.6B -K59.4:A1 Filter cone valve 1\\nQ2.67\\nDQ6/59.7B -K59.5:A1 Filter cone valve 2\\nQ2.78\\nDQ7/59.8B -K59.6:A1 Filter cone valve 3\\n9\\nM/59.1B\\n10\\nM/59.2B\\n11\\nM/59.3B\\n12\\nM/59.4B\\n13\\nM/59.5B\\n14\\nM/59.5B\\n15\\nM/59.6B\\n16\\nM/59.7B\\nL+\\n24VDC/47.3C\\nM\\n0VDC/47.3C\"\"\"\n",
    "\n",
    "input_name=[]\n",
    "for match in re.finditer(r\"\\nDQ(.*?)\\n\", data):\n",
    "    input_name.append(match.group(1).split(\" \",2)[2])  \n",
    "print(input_name)\n"
   ]
  },
  {
   "cell_type": "code",
   "execution_count": 219,
   "metadata": {},
   "outputs": [
    {
     "data": {
      "text/plain": [
       "['Emergency OFF ok',\n",
       " 'General alarm',\n",
       " 'Reset Relay 1',\n",
       " 'Reset Relay 2',\n",
       " 'Dosing running',\n",
       " 'Horn',\n",
       " 'Lamp general alarm',\n",
       " 'Lamp dosing airlock running',\n",
       " 'Spare',\n",
       " 'Spare',\n",
       " 'Spare',\n",
       " 'Spare',\n",
       " 'Cleaning mode active / fan on',\n",
       " 'Spare',\n",
       " 'Spare',\n",
       " 'Spare',\n",
       " 'Spare',\n",
       " 'Spare',\n",
       " 'Ultrasonic Local/Remote',\n",
       " 'Enable ultrasonic',\n",
       " 'Filter control device',\n",
       " 'Filter cone valve 1',\n",
       " 'Filter cone valve 2',\n",
       " 'Filter cone valve 3',\n",
       " 'Spare',\n",
       " 'Enable Screening Machines',\n",
       " 'Enable Motor Lifting and Revolving Device contactor 2',\n",
       " 'Spare',\n",
       " 'Enable M1820 NEAddiX second contactor',\n",
       " 'Spare',\n",
       " 'NEAddiX Run',\n",
       " 'NEAddiX Alarm',\n",
       " 'V5550 DFD filter open bottom',\n",
       " 'V5550 DFD filter open top',\n",
       " 'Spare',\n",
       " 'Spare',\n",
       " 'DFD cyclone 1 open top',\n",
       " 'DFD cyclone 1 open bottom',\n",
       " 'Start/Stop additive dosing',\n",
       " 'Enable DFD cyclone 1 cleaning mode',\n",
       " 'Main contactor mill',\n",
       " 'Main contactor mill classifier',\n",
       " 'Spare',\n",
       " 'Main contactor fan',\n",
       " 'Spare',\n",
       " 'Main contactor dosing airlock 1',\n",
       " 'Spare',\n",
       " 'Main contactor cyclone classifier',\n",
       " '\\nQ0.0',\n",
       " '\\nQ0.1',\n",
       " '\\nQ0.2',\n",
       " '\\nQ0.3',\n",
       " '\\nQ0.4',\n",
       " '\\nQ0.5',\n",
       " '\\nQ0.6',\n",
       " '\\nQ0.7',\n",
       " '\\nQ1.0',\n",
       " '\\nQ1.1',\n",
       " '\\nQ1.2',\n",
       " '\\nQ1.3',\n",
       " '\\nQ1.4',\n",
       " '\\nQ1.5',\n",
       " '\\nQ1.6',\n",
       " '\\nQ1.7',\n",
       " '\\nQ2.0',\n",
       " '\\nQ2.1',\n",
       " '\\nQ2.2',\n",
       " '\\nQ2.3',\n",
       " '\\nQ2.4',\n",
       " '\\nQ2.5',\n",
       " '\\nQ2.6',\n",
       " '\\nQ2.7',\n",
       " '\\nQ3.0',\n",
       " '\\nQ3.1',\n",
       " '\\nQ3.2',\n",
       " '\\nQ3.3',\n",
       " '\\nQ3.4',\n",
       " '\\nQ3.5',\n",
       " '\\nQ3.6',\n",
       " '\\nQ3.7',\n",
       " '\\nQ4.0',\n",
       " '\\nQ4.1',\n",
       " '\\nQ4.2',\n",
       " '\\nQ4.3',\n",
       " '\\nQ4.4',\n",
       " '\\nQ4.5',\n",
       " '\\nQ4.6',\n",
       " '\\nQ4.7',\n",
       " '\\nQ5.0',\n",
       " '\\nQ5.1',\n",
       " '\\nQ5.2',\n",
       " '\\nQ5.3',\n",
       " '\\nQ5.4',\n",
       " '\\nQ5.5',\n",
       " '\\nQ5.6',\n",
       " '\\nQ5.7']"
      ]
     },
     "execution_count": 219,
     "metadata": {},
     "output_type": "execute_result"
    }
   ],
   "source": [
    "output_name"
   ]
  },
  {
   "cell_type": "code",
   "execution_count": null,
   "metadata": {},
   "outputs": [],
   "source": []
  }
 ],
 "metadata": {
  "kernelspec": {
   "display_name": "Python 3",
   "language": "python",
   "name": "python3"
  },
  "language_info": {
   "codemirror_mode": {
    "name": "ipython",
    "version": 3
   },
   "file_extension": ".py",
   "mimetype": "text/x-python",
   "name": "python",
   "nbconvert_exporter": "python",
   "pygments_lexer": "ipython3",
   "version": "3.11.1"
  },
  "orig_nbformat": 4,
  "vscode": {
   "interpreter": {
    "hash": "c4dd7ece218bef9c8b80334648376d7346cdda2445245bed2354c24592339c8f"
   }
  }
 },
 "nbformat": 4,
 "nbformat_minor": 2
}
